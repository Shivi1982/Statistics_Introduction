{
 "cells": [
  {
   "cell_type": "markdown",
   "metadata": {},
   "source": [
    "# Load Packages "
   ]
  },
  {
   "cell_type": "code",
   "execution_count": 1,
   "metadata": {},
   "outputs": [
    {
     "name": "stdout",
     "output_type": "stream",
     "text": [
      "Keep Learning & Keep Winning! 💞\n"
     ]
    }
   ],
   "source": [
    "# !pip install emoji\n",
    "import emoji\n",
    "print(emoji.emojize('Keep Learning & Keep Winning! :revolving_hearts:'))"
   ]
  },
  {
   "cell_type": "markdown",
   "metadata": {},
   "source": [
    "👅👅👅👅👅👅👅👅👅💪🏻💪🏻💪🏻💪🏻💪🏻💪🏻💪🏻💪🏻💪🏻💪🏻💪🏻💪🏻💪🏻💪🏻"
   ]
  },
  {
   "cell_type": "code",
   "execution_count": 2,
   "metadata": {},
   "outputs": [
    {
     "name": "stderr",
     "output_type": "stream",
     "text": [
      "C:\\Anaconda\\lib\\site-packages\\statsmodels\\tools\\_testing.py:19: FutureWarning: pandas.util.testing is deprecated. Use the functions in the public API at pandas.testing instead.\n",
      "  import pandas.util.testing as tm\n"
     ]
    }
   ],
   "source": [
    "import numpy as np \n",
    "import matplotlib.pyplot as plt \n",
    "import scipy.stats as st \n",
    "import seaborn as sns\n",
    "from sklearn import linear_model\n",
    "from sklearn.model_selection import cross_validate\n",
    "from sklearn.model_selection import ShuffleSplit\n",
    "from sklearn.metrics import r2_score # for R Squared \n",
    "from sklearn.model_selection import train_test_split # for spliting the data \n",
    "from sklearn.metrics import mean_squared_error # for MSE \n",
    "from sklearn.linear_model import LogisticRegression\n",
    "from sklearn import datasets\n",
    "from sklearn.preprocessing import StandardScaler # to scale the data like in log linear scale \n",
    "from sklearn.datasets import make_classification # to make dataset on classification \n",
    "from sklearn.metrics import confusion_matrix\n",
    "from math import sqrt\n",
    "import urllib\n",
    "from sklearn.neighbors import KNeighborsClassifier # for KNN \n",
    "from sklearn import neighbors # for KNN\n",
    "from sklearn import preprocessing # for ML preprocessing \n",
    "import pandas as pd\n",
    "from sklearn.tree import DecisionTreeClassifier # FOR dt\n",
    "import pydotplus # for Images specially Decision tree with graphviz\n",
    "from IPython.display import Image\n",
    "from sklearn import tree # for Decision Tree\n",
    "from sklearn.ensemble import RandomForestClassifier  # for Random forest\n",
    "pd.options.display.float_format = '{:.2f}'.format #[numbers ] wil not appear in scientific form "
   ]
  },
  {
   "cell_type": "markdown",
   "metadata": {},
   "source": [
    "# Set Theory:"
   ]
  },
  {
   "cell_type": "markdown",
   "metadata": {
    "cell_style": "split"
   },
   "source": [
    "__<font color = \"Indigo\"> In order to understand Conditional Probability we first need to understand some basics of Set Theory</font>__"
   ]
  },
  {
   "cell_type": "markdown",
   "metadata": {
    "cell_style": "center"
   },
   "source": [
    "## __Set:__   \n",
    "\n",
    "A Collection of numbers without repeating a single number more than a single time.    \n",
    "Set is represented as A = {1,2,3,4,5}\n",
    "\n",
    "Here A is a set."
   ]
  },
  {
   "cell_type": "markdown",
   "metadata": {
    "cell_style": "split"
   },
   "source": [
    "## Union of Set\n",
    "\n",
    "So Union is an Operation and it need operands and operands are sets.    \n",
    "For Example,\n",
    "A = {1,2,3,4}\n",
    "B = {5,6,7,8}\n",
    "\n",
    "A U B = {1,2,3,4,5,6,7,8}\n"
   ]
  },
  {
   "cell_type": "markdown",
   "metadata": {
    "cell_style": "center"
   },
   "source": [
    "## Intersection Of Set\n",
    "Intersection contains only common elements between two sets    \n",
    "For example: A = {1,2,3,4} B = {2,3}     \n",
    "A ꓵ B = {2,3}\n"
   ]
  },
  {
   "cell_type": "markdown",
   "metadata": {
    "cell_style": "center"
   },
   "source": [
    "# Conditional Probability    \n",
    "It is a type of Probability that is calculated when another event which is given and has already occured    \n",
    "For Example, Given that it rained yesterday, what is the probability of having rain today.    \n",
    "\n",
    "And its Relation is:    \n",
    "Conditional Probability = P of (A ꓵ B) / P (B)        \n",
    "__[Probability of B given A]__"
   ]
  },
  {
   "cell_type": "markdown",
   "metadata": {
    "cell_style": "center"
   },
   "source": [
    "## Conditional Prob of Independent Events\n",
    "-   Independent Events: When there are two events and Occurence of one Event doesn't affect the probability of another event.          \n",
    "- The outcome of tossing the first coin cannot influence the outcome of tossing the second coin     \n",
    "- __<font color=\"DarkBlue\"> P(A|B) = P(A) conditional probability is the probability of an event A occurring given that event B’s already occurred </font>__\n"
   ]
  },
  {
   "cell_type": "markdown",
   "metadata": {},
   "source": [
    "###  PROBABILITY RULES OF INDEPENDENT EVENT"
   ]
  },
  {
   "cell_type": "markdown",
   "metadata": {},
   "source": [
    "__1. RULE OF MULTIPLICATOION__    \n",
    "The rule of multiplication is used when we want to find the probability of events occurring simultaneously Also known as       __<font color=\"hill\">JointProbability</font>__  \n",
    "\n",
    "__2. RULE OF ADDITION__    \n",
    "The rule of addition allows determining the probability that at least one of the events occurs"
   ]
  },
  {
   "cell_type": "markdown",
   "metadata": {},
   "source": [
    "# <font color=\"Dark Green\"> Prediction Probability</font>"
   ]
  },
  {
   "cell_type": "markdown",
   "metadata": {},
   "source": [
    "<font color = \"Red\">__How Good Our Prediction be will depend on 2 things__:</font>\n",
    "\n",
    "- how close max p(x) = 1    where p = probability    \n",
    "- how close our estimate of the probabilities are to the actual probabilities    "
   ]
  },
  {
   "cell_type": "markdown",
   "metadata": {},
   "source": [
    "<img src=\"Probability.JPG\" style=\"width:200px; height:150px\"/>"
   ]
  },
  {
   "cell_type": "markdown",
   "metadata": {},
   "source": [
    "# <font color=\"Dark Green\">Bayes' rule (or theorem) </font>"
   ]
  },
  {
   "cell_type": "markdown",
   "metadata": {},
   "source": [
    "__<font color =\"Pixie Powder\"> METHODS THAT MODEL THE JOINT DISTRIBUTION OF Y AND PREDICTORS X ARE REFERRED TO AS GENERATIVE MODELS. nAIVE BAYES, LDA AND QDA [ quadratic discrimant analysis ]</font>__"
   ]
  },
  {
   "cell_type": "markdown",
   "metadata": {},
   "source": [
    "__Bayes’ theorem (alternatively Bayes’ law or Bayes’ rule) describes the probability of an event, based on prior knowledge of conditions that might be related to the event.__    \n",
    "For example, if a disease is related to age, then, using Bayes’ theorem, a person's age can be used to more accurately assess the probability that they have the disease, compared to the assessment of the probability of disease made without knowledge of the person’s age.    \n",
    "Bayes’ theorem is stated mathematically as the following equation:    \n",
    "<font color= \"Dark Grey\">$$ P(A\\mid B)={\\frac {P(B\\mid A).P(A)}{P(B)}} $$</font>    \n",
    "where $A$ and $B$ are events and $P(B)\\neq0$.       \n",
    "\n",
    "- $P(A\\mid B)$ is a conditional probability: the likelihood of event $A$ occurring given that $B$ is true and has occured.\n",
    "- $P(B\\mid A)$ is also a conditional probability: the likelihood of event $B$ occurring given that $A$ is true and has occured.\n",
    "- $P(A)$ and $P(B)$ are the probabilities of observing $A$ and $B$ independently of each other; this is known as the marginal probability."
   ]
  },
  {
   "cell_type": "markdown",
   "metadata": {},
   "source": [
    "## Example for Bayes"
   ]
  },
  {
   "cell_type": "code",
   "execution_count": 3,
   "metadata": {},
   "outputs": [],
   "source": [
    "import numpy as np\n",
    "import matplotlib.pyplot as plt\n",
    "import scipy.stats as st\n",
    "import seaborn as sns"
   ]
  },
  {
   "cell_type": "markdown",
   "metadata": {},
   "source": [
    "## Sensitivity and Specificity"
   ]
  },
  {
   "cell_type": "markdown",
   "metadata": {},
   "source": [
    "<font color='red'>__The ideal test should be able to deliver results with 100% sensitivity and 100% specificity. However, in a practical application, it is difficult to achieve this.__</font>     \n",
    "__specificity is very important in medical testing and chemical testing. In medical testing, confirming that a person does not have the disease is more important than detecting whether a person has it__    "
   ]
  },
  {
   "cell_type": "markdown",
   "metadata": {},
   "source": [
    "Suppose that a test for using a particular drug is **97% sensitive** <font color='red'> __RECALL RATE__</font> and **95% specific**.         \n",
    "<font color =\"DarkGrey\">Sensitive = accurately predicting true cases</font>    \n",
    "<font color =\"DarkGrey\">Specific = accurately predicting False cases</font>    \n",
    "That is, the test will produce **97% true positive** results for drug users and **95% true negative results** for non-drug users.    \n",
    "\n",
    "Suppose that 0.5% of the general population are users of the drug. What is the probability that a randomly selected individual with a positive test is a drug user?\n",
    "\n",
    "We will write a custom function which accepts the test capabilities and the prior knowledge of drug user percentage as input and produces the output probability of a test-taker being an user based on a positive result.    \n",
    "\n",
    "\n",
    "The Bayes' rule based calculation is given by the following equation,\n",
    "\n",
    "$$ P(\\text{User}|+)=\\frac{P(+|\\text{User}).P(\\text{User})}{P(+)}\\\\ = \n",
    "\\frac{P(+|\\text{User}).P(\\text{User})}{P(+|\\text{User}).P(\\text{User})+P(+|\\text{Non-user}).P(\\text{Non-user})} $$\n",
    "\n",
    "Here,\n",
    "\n",
    "$P(\\text{User}) = \\text{Prevelance rate}$<br>     π    \n",
    "$P(\\text{Non-user}) = 1-\\text{Prevelance rate}$<br>\n",
    "$P(+|\\text{User})=\\text{Sensitivity}$<br>\n",
    "$P(-|\\text{Non-user})=\\text{Specificity}$<br>\n",
    "$P(+|\\text{Non-user})=1-\\text{Specificity}$"
   ]
  },
  {
   "cell_type": "code",
   "execution_count": 4,
   "metadata": {},
   "outputs": [
    {
     "name": "stdout",
     "output_type": "stream",
     "text": [
      "The test-taker may not be an user\n",
      "Probability of the test-taker being a drug user is: 0.148\n"
     ]
    }
   ],
   "source": [
    "def drug_user(prob_th=0.5,sensitivity=0.85,specificity=0.90,prevelance=0.02,verbose=True):\n",
    "    \"\"\"\n",
    "    \"\"\"\n",
    "    p_user = prevelance\n",
    "    p_non_user = 1-prevelance\n",
    "    p_pos_user = sensitivity\n",
    "    p_neg_user = specificity\n",
    "    p_pos_non_user = 1-specificity\n",
    "    \n",
    "    num = p_pos_user*p_user\n",
    "    den = p_pos_user*p_user+p_pos_non_user*p_non_user\n",
    "    \n",
    "    prob = num/den\n",
    "    \n",
    "    if verbose:\n",
    "        if prob > prob_th:\n",
    "            print(\"The test-taker could be an user\")\n",
    "        else:\n",
    "            print(\"The test-taker may not be an user\")\n",
    "\n",
    "    return prob\n",
    "\n",
    "# Calculate Probability \n",
    "p = drug_user(sensitivity=0.85,specificity=0.90,prevelance=0.02) # Prevelance is current % or current state\n",
    "print(\"Probability of the test-taker being a drug user is:\",round(p,3))"
   ]
  },
  {
   "cell_type": "markdown",
   "metadata": {},
   "source": [
    "Even with a test that is 85% correct for catching positive cases, and 90% correct for rejecting negative cases, the true probability of being a drug-user with a positive result is only 14.8%!\n",
    "\n",
    "If you look at the computations, this is because of extremely low prevelance rate. The number of false positives outweighs the number of true positives. \n",
    "\n",
    "For example, if 1000 individuals are tested, there are expected to be 995 non-users and 5 users. From the 995 non-users, 0.05 × 995 ≃ 50 false positives are expected. From the 5 users, 0.95 × 5 ≈ 5 true positives are expected. Out of 55 positive results, only 5 are genuine!"
   ]
  },
  {
   "cell_type": "markdown",
   "metadata": {},
   "source": [
    "### Conclusion"
   ]
  },
  {
   "cell_type": "markdown",
   "metadata": {},
   "source": [
    "This conclusion can be intuitively derived from the fact that the main issue with having low probability is the low prevelance rate. Therefore, catching non-users correctly (i.e. improving specificity) is the area where we should focus on because they are much larger in numbers that the user.\n",
    "\n",
    "Negative examples >> Positive examples in this problem. Therefore, True Negative performance of the test should be excellent."
   ]
  },
  {
   "cell_type": "markdown",
   "metadata": {},
   "source": [
    "## Naive Bayes"
   ]
  },
  {
   "cell_type": "markdown",
   "metadata": {},
   "source": [
    "__Step 1: Calculate the prior probability for given class labels    \n",
    "Step 2: Find Likelihood probability with each attribute for each class    \n",
    "Step 3: Put these value in Bayes Formula and calculate posterior probability    \n",
    "Step 4: See which class has a higher probability, given the input belongs to the higher probability class__    \n",
    "\n",
    "<font color= \"Darkblue\"> Naive bayes is called __NAIVE__ because it is built with some assumption that may or may not turn out to be correct !!!     \n",
    "\n",
    "* __A posterior probability is the probability of assigning observations or data to specific groups. For example for a car sale if we know a specific model previously has been purchased 60% by males and 40% by feamles__    \n",
    "\n",
    "           \n",
    "* __A prior probability on the other hand is the probability that an observation will fall into a group before you collect the data__"
   ]
  },
  {
   "cell_type": "code",
   "execution_count": 5,
   "metadata": {},
   "outputs": [],
   "source": [
    "#Import scikit-learn dataset library\n",
    "from sklearn import datasets\n",
    "\n",
    "#Load dataset\n",
    "wine = datasets.load_wine()"
   ]
  },
  {
   "cell_type": "code",
   "execution_count": 6,
   "metadata": {},
   "outputs": [
    {
     "name": "stdout",
     "output_type": "stream",
     "text": [
      "Features: ['alcohol', 'malic_acid', 'ash', 'alcalinity_of_ash', 'magnesium', 'total_phenols', 'flavanoids', 'nonflavanoid_phenols', 'proanthocyanins', 'color_intensity', 'hue', 'od280/od315_of_diluted_wines', 'proline']\n"
     ]
    }
   ],
   "source": [
    "# print the names of the 13 features\n",
    "print( \"Features:\",wine.feature_names)"
   ]
  },
  {
   "cell_type": "code",
   "execution_count": 7,
   "metadata": {},
   "outputs": [
    {
     "name": "stdout",
     "output_type": "stream",
     "text": [
      "Labels:  ['class_0' 'class_1' 'class_2']\n"
     ]
    }
   ],
   "source": [
    "print (\"Labels: \" , wine.target_names)"
   ]
  },
  {
   "cell_type": "code",
   "execution_count": 8,
   "metadata": {},
   "outputs": [
    {
     "data": {
      "text/plain": [
       "array([[1.423e+01, 1.710e+00, 2.430e+00, 1.560e+01, 1.270e+02, 2.800e+00,\n",
       "        3.060e+00, 2.800e-01, 2.290e+00, 5.640e+00, 1.040e+00, 3.920e+00,\n",
       "        1.065e+03],\n",
       "       [1.320e+01, 1.780e+00, 2.140e+00, 1.120e+01, 1.000e+02, 2.650e+00,\n",
       "        2.760e+00, 2.600e-01, 1.280e+00, 4.380e+00, 1.050e+00, 3.400e+00,\n",
       "        1.050e+03],\n",
       "       [1.316e+01, 2.360e+00, 2.670e+00, 1.860e+01, 1.010e+02, 2.800e+00,\n",
       "        3.240e+00, 3.000e-01, 2.810e+00, 5.680e+00, 1.030e+00, 3.170e+00,\n",
       "        1.185e+03],\n",
       "       [1.437e+01, 1.950e+00, 2.500e+00, 1.680e+01, 1.130e+02, 3.850e+00,\n",
       "        3.490e+00, 2.400e-01, 2.180e+00, 7.800e+00, 8.600e-01, 3.450e+00,\n",
       "        1.480e+03],\n",
       "       [1.324e+01, 2.590e+00, 2.870e+00, 2.100e+01, 1.180e+02, 2.800e+00,\n",
       "        2.690e+00, 3.900e-01, 1.820e+00, 4.320e+00, 1.040e+00, 2.930e+00,\n",
       "        7.350e+02]])"
      ]
     },
     "execution_count": 8,
     "metadata": {},
     "output_type": "execute_result"
    }
   ],
   "source": [
    "wine.data.shape\n",
    "wine.data[0:5]"
   ]
  },
  {
   "cell_type": "code",
   "execution_count": 9,
   "metadata": {},
   "outputs": [],
   "source": [
    "from sklearn.model_selection import train_test_split\n",
    "X_train, X_test, y_train, y_test = train_test_split(wine.data, wine.target, test_size=0.3,random_state=109)\n",
    "# 70% training and 30% test"
   ]
  },
  {
   "cell_type": "code",
   "execution_count": 10,
   "metadata": {},
   "outputs": [],
   "source": [
    "#Import Gaussian Naive Bayes model\n",
    "from sklearn.naive_bayes import GaussianNB\n",
    "\n",
    "#Create a Gaussian Classifier\n",
    "gnb = GaussianNB()\n",
    "\n",
    "# #Train the model using the training sets\n",
    "gnb.fit(X_train, y_train)\n",
    "\n",
    "# #Predict the response for test dataset\n",
    "y_pred = gnb.predict(X_test)"
   ]
  },
  {
   "cell_type": "markdown",
   "metadata": {},
   "source": [
    "__Gaussian Distribution__ is same as __Normal Distribution__ where mean, mode and median are the same,and  The skewness and the kurtosis are zero    "
   ]
  },
  {
   "cell_type": "code",
   "execution_count": 11,
   "metadata": {},
   "outputs": [
    {
     "name": "stdout",
     "output_type": "stream",
     "text": [
      "Accuracy: 0.9074074074074074\n"
     ]
    }
   ],
   "source": [
    "#Import scikit-learn metrics module for accuracy calculation\n",
    "from sklearn import metrics\n",
    "\n",
    "# Model Accuracy, how often is the classifier correct?\n",
    "print(\"Accuracy:\",metrics.accuracy_score(y_test, y_pred))"
   ]
  },
  {
   "cell_type": "markdown",
   "metadata": {},
   "source": [
    "# Linear Regression "
   ]
  },
  {
   "cell_type": "markdown",
   "metadata": {},
   "source": [
    "1. In regression, the intercept only model has no independent variables. Thus, it predicts that the best estimate of the dependent variable for each subject is the overall mean. Often, the use of the intercept only model is as a comparison to other models that do include independent variables       \n",
    "2. The intercept (often labeled the constant) is the expected mean value of Y when all X=0    \n",
    "    -  If X never equals 0, then the intercept has no intrinsic meaning. In scientific research, the purpose of a regression model is to understand the relationship between predictors and the response   \n",
    "    -  The formula for regression can be xpressed in 2 ways [is the same but represented in 2 ways majorly]:    \n",
    "       __Y = a + bX + error, where the slope of the line is b, while a is the intercept.__    \n",
    "3.  The slope of the line represents the change of the data plotted on the y-axis to the change of the data plotted on the x-axis   \n",
    "4. <font color=\"BrightRed\"> __Coefficient = A number used to multiply a variable.Example: 6z means 6 times z, and \"z\" is a variable, so 6 is a coefficient__</font>"
   ]
  },
  {
   "cell_type": "markdown",
   "metadata": {},
   "source": [
    "<img src=\"Lin_Reg.JPG\" style=\"width:350px; height:180px\"/>"
   ]
  },
  {
   "cell_type": "markdown",
   "metadata": {},
   "source": [
    "###  Measures of Performance \n",
    "\n",
    "1. Mean Squared Error [MSE]: first we take the diff in actual vs predicted, square it and then take the average    \n",
    "2. R-Sq.__[Coefficient Of Determination]__ : Explains how much total variance in the data is explained by the model     \n",
    "3. Adjusted R Sqr: When we add more independent variables into the model, R sqr increases irrespective of whether the additional variables improve the model. \n",
    "    -  <font color = \"Maroon\">__Hence Adjusted R Square penalises the model if the new variable doesnt fit the model__</font>    \n",
    "4. Mallow's Cp: used in selecting the best regression model, its value should be small and close to the number of independent variables"
   ]
  },
  {
   "cell_type": "markdown",
   "metadata": {},
   "source": [
    "### Multi-Collinearity \n",
    "A phenomenon in which 2 or more predictor variables are in mutiple regression model are highly correlated.    \n",
    "This can be detected using:    \n",
    "1- Correlation Matrix     \n",
    "2- VIF {Variation Inflation Factor} - __<font color=\"Hillarious\"> if none of the independt var are correlated\n",
    "then VIF will be 1</font>__"
   ]
  },
  {
   "cell_type": "markdown",
   "metadata": {},
   "source": [
    "### Outlier Detection \n",
    "Cook's Distance is used to estimate the influence of data points in linear regression"
   ]
  },
  {
   "cell_type": "markdown",
   "metadata": {},
   "source": [
    "### Basic Example"
   ]
  },
  {
   "cell_type": "code",
   "execution_count": 12,
   "metadata": {},
   "outputs": [],
   "source": [
    "import numpy as np\n",
    "import pandas as pd\n",
    "import matplotlib.pyplot as plt\n",
    "import seaborn as sns\n",
    "from sklearn import linear_model\n",
    "from sklearn.model_selection import cross_validate\n",
    "from sklearn.model_selection import ShuffleSplit"
   ]
  },
  {
   "cell_type": "code",
   "execution_count": 13,
   "metadata": {},
   "outputs": [
    {
     "data": {
      "text/html": [
       "<div>\n",
       "<style scoped>\n",
       "    .dataframe tbody tr th:only-of-type {\n",
       "        vertical-align: middle;\n",
       "    }\n",
       "\n",
       "    .dataframe tbody tr th {\n",
       "        vertical-align: top;\n",
       "    }\n",
       "\n",
       "    .dataframe thead th {\n",
       "        text-align: right;\n",
       "    }\n",
       "</style>\n",
       "<table border=\"1\" class=\"dataframe\">\n",
       "  <thead>\n",
       "    <tr style=\"text-align: right;\">\n",
       "      <th></th>\n",
       "      <th>crim</th>\n",
       "      <th>zn</th>\n",
       "      <th>indus</th>\n",
       "      <th>chas</th>\n",
       "      <th>nox</th>\n",
       "      <th>rm</th>\n",
       "      <th>age</th>\n",
       "      <th>dis</th>\n",
       "      <th>rad</th>\n",
       "      <th>tax</th>\n",
       "      <th>ptratio</th>\n",
       "      <th>b</th>\n",
       "      <th>lstat</th>\n",
       "      <th>medv</th>\n",
       "    </tr>\n",
       "  </thead>\n",
       "  <tbody>\n",
       "    <tr>\n",
       "      <th>0</th>\n",
       "      <td>0.01</td>\n",
       "      <td>18.00</td>\n",
       "      <td>2.31</td>\n",
       "      <td>0</td>\n",
       "      <td>0.54</td>\n",
       "      <td>6.58</td>\n",
       "      <td>65.20</td>\n",
       "      <td>4.09</td>\n",
       "      <td>1</td>\n",
       "      <td>296</td>\n",
       "      <td>15.30</td>\n",
       "      <td>396.90</td>\n",
       "      <td>4.98</td>\n",
       "      <td>24.00</td>\n",
       "    </tr>\n",
       "    <tr>\n",
       "      <th>1</th>\n",
       "      <td>0.03</td>\n",
       "      <td>0.00</td>\n",
       "      <td>7.07</td>\n",
       "      <td>0</td>\n",
       "      <td>0.47</td>\n",
       "      <td>6.42</td>\n",
       "      <td>78.90</td>\n",
       "      <td>4.97</td>\n",
       "      <td>2</td>\n",
       "      <td>242</td>\n",
       "      <td>17.80</td>\n",
       "      <td>396.90</td>\n",
       "      <td>9.14</td>\n",
       "      <td>21.60</td>\n",
       "    </tr>\n",
       "    <tr>\n",
       "      <th>2</th>\n",
       "      <td>0.03</td>\n",
       "      <td>0.00</td>\n",
       "      <td>7.07</td>\n",
       "      <td>0</td>\n",
       "      <td>0.47</td>\n",
       "      <td>7.18</td>\n",
       "      <td>61.10</td>\n",
       "      <td>4.97</td>\n",
       "      <td>2</td>\n",
       "      <td>242</td>\n",
       "      <td>17.80</td>\n",
       "      <td>392.83</td>\n",
       "      <td>4.03</td>\n",
       "      <td>34.70</td>\n",
       "    </tr>\n",
       "    <tr>\n",
       "      <th>3</th>\n",
       "      <td>0.03</td>\n",
       "      <td>0.00</td>\n",
       "      <td>2.18</td>\n",
       "      <td>0</td>\n",
       "      <td>0.46</td>\n",
       "      <td>7.00</td>\n",
       "      <td>45.80</td>\n",
       "      <td>6.06</td>\n",
       "      <td>3</td>\n",
       "      <td>222</td>\n",
       "      <td>18.70</td>\n",
       "      <td>394.63</td>\n",
       "      <td>2.94</td>\n",
       "      <td>33.40</td>\n",
       "    </tr>\n",
       "    <tr>\n",
       "      <th>4</th>\n",
       "      <td>0.07</td>\n",
       "      <td>0.00</td>\n",
       "      <td>2.18</td>\n",
       "      <td>0</td>\n",
       "      <td>0.46</td>\n",
       "      <td>7.15</td>\n",
       "      <td>54.20</td>\n",
       "      <td>6.06</td>\n",
       "      <td>3</td>\n",
       "      <td>222</td>\n",
       "      <td>18.70</td>\n",
       "      <td>396.90</td>\n",
       "      <td>5.33</td>\n",
       "      <td>36.20</td>\n",
       "    </tr>\n",
       "  </tbody>\n",
       "</table>\n",
       "</div>"
      ],
      "text/plain": [
       "   crim    zn  indus  chas  nox   rm   age  dis  rad  tax  ptratio      b  \\\n",
       "0  0.01 18.00   2.31     0 0.54 6.58 65.20 4.09    1  296    15.30 396.90   \n",
       "1  0.03  0.00   7.07     0 0.47 6.42 78.90 4.97    2  242    17.80 396.90   \n",
       "2  0.03  0.00   7.07     0 0.47 7.18 61.10 4.97    2  242    17.80 392.83   \n",
       "3  0.03  0.00   2.18     0 0.46 7.00 45.80 6.06    3  222    18.70 394.63   \n",
       "4  0.07  0.00   2.18     0 0.46 7.15 54.20 6.06    3  222    18.70 396.90   \n",
       "\n",
       "   lstat  medv  \n",
       "0   4.98 24.00  \n",
       "1   9.14 21.60  \n",
       "2   4.03 34.70  \n",
       "3   2.94 33.40  \n",
       "4   5.33 36.20  "
      ]
     },
     "execution_count": 13,
     "metadata": {},
     "output_type": "execute_result"
    }
   ],
   "source": [
    "data= pd.read_csv(\"Boston_housing.csv\", sep=\",\")\n",
    "data.head(5)\n",
    "#medv is the dependent var i.e. median price in boston of owner occupied houses"
   ]
  },
  {
   "cell_type": "code",
   "execution_count": 14,
   "metadata": {},
   "outputs": [
    {
     "name": "stdout",
     "output_type": "stream",
     "text": [
      "<class 'pandas.core.frame.DataFrame'>\n",
      "RangeIndex: 506 entries, 0 to 505\n",
      "Data columns (total 14 columns):\n",
      " #   Column   Non-Null Count  Dtype  \n",
      "---  ------   --------------  -----  \n",
      " 0   crim     506 non-null    float64\n",
      " 1   zn       506 non-null    float64\n",
      " 2   indus    506 non-null    float64\n",
      " 3   chas     506 non-null    int64  \n",
      " 4   nox      506 non-null    float64\n",
      " 5   rm       506 non-null    float64\n",
      " 6   age      506 non-null    float64\n",
      " 7   dis      506 non-null    float64\n",
      " 8   rad      506 non-null    int64  \n",
      " 9   tax      506 non-null    int64  \n",
      " 10  ptratio  506 non-null    float64\n",
      " 11  b        506 non-null    float64\n",
      " 12  lstat    506 non-null    float64\n",
      " 13  medv     506 non-null    float64\n",
      "dtypes: float64(11), int64(3)\n",
      "memory usage: 55.5 KB\n"
     ]
    }
   ],
   "source": [
    "# Bacis Info on Dataset :\n",
    "data.info()"
   ]
  },
  {
   "cell_type": "code",
   "execution_count": 15,
   "metadata": {},
   "outputs": [
    {
     "data": {
      "text/html": [
       "<div>\n",
       "<style scoped>\n",
       "    .dataframe tbody tr th:only-of-type {\n",
       "        vertical-align: middle;\n",
       "    }\n",
       "\n",
       "    .dataframe tbody tr th {\n",
       "        vertical-align: top;\n",
       "    }\n",
       "\n",
       "    .dataframe thead th {\n",
       "        text-align: right;\n",
       "    }\n",
       "</style>\n",
       "<table border=\"1\" class=\"dataframe\">\n",
       "  <thead>\n",
       "    <tr style=\"text-align: right;\">\n",
       "      <th></th>\n",
       "      <th>crim</th>\n",
       "      <th>zn</th>\n",
       "      <th>indus</th>\n",
       "      <th>chas</th>\n",
       "      <th>nox</th>\n",
       "      <th>rm</th>\n",
       "      <th>age</th>\n",
       "      <th>dis</th>\n",
       "      <th>rad</th>\n",
       "      <th>tax</th>\n",
       "      <th>ptratio</th>\n",
       "      <th>b</th>\n",
       "      <th>lstat</th>\n",
       "      <th>medv</th>\n",
       "    </tr>\n",
       "  </thead>\n",
       "  <tbody>\n",
       "    <tr>\n",
       "      <th>count</th>\n",
       "      <td>506.00</td>\n",
       "      <td>506.00</td>\n",
       "      <td>506.00</td>\n",
       "      <td>506.00</td>\n",
       "      <td>506.00</td>\n",
       "      <td>506.00</td>\n",
       "      <td>506.00</td>\n",
       "      <td>506.00</td>\n",
       "      <td>506.00</td>\n",
       "      <td>506.00</td>\n",
       "      <td>506.00</td>\n",
       "      <td>506.00</td>\n",
       "      <td>506.00</td>\n",
       "      <td>506.00</td>\n",
       "    </tr>\n",
       "    <tr>\n",
       "      <th>mean</th>\n",
       "      <td>3.61</td>\n",
       "      <td>11.36</td>\n",
       "      <td>11.14</td>\n",
       "      <td>0.07</td>\n",
       "      <td>0.55</td>\n",
       "      <td>6.28</td>\n",
       "      <td>68.57</td>\n",
       "      <td>3.80</td>\n",
       "      <td>9.55</td>\n",
       "      <td>408.24</td>\n",
       "      <td>18.46</td>\n",
       "      <td>356.67</td>\n",
       "      <td>12.65</td>\n",
       "      <td>22.53</td>\n",
       "    </tr>\n",
       "    <tr>\n",
       "      <th>std</th>\n",
       "      <td>8.60</td>\n",
       "      <td>23.32</td>\n",
       "      <td>6.86</td>\n",
       "      <td>0.25</td>\n",
       "      <td>0.12</td>\n",
       "      <td>0.70</td>\n",
       "      <td>28.15</td>\n",
       "      <td>2.11</td>\n",
       "      <td>8.71</td>\n",
       "      <td>168.54</td>\n",
       "      <td>2.16</td>\n",
       "      <td>91.29</td>\n",
       "      <td>7.14</td>\n",
       "      <td>9.20</td>\n",
       "    </tr>\n",
       "    <tr>\n",
       "      <th>min</th>\n",
       "      <td>0.01</td>\n",
       "      <td>0.00</td>\n",
       "      <td>0.46</td>\n",
       "      <td>0.00</td>\n",
       "      <td>0.39</td>\n",
       "      <td>3.56</td>\n",
       "      <td>2.90</td>\n",
       "      <td>1.13</td>\n",
       "      <td>1.00</td>\n",
       "      <td>187.00</td>\n",
       "      <td>12.60</td>\n",
       "      <td>0.32</td>\n",
       "      <td>1.73</td>\n",
       "      <td>5.00</td>\n",
       "    </tr>\n",
       "    <tr>\n",
       "      <th>25%</th>\n",
       "      <td>0.08</td>\n",
       "      <td>0.00</td>\n",
       "      <td>5.19</td>\n",
       "      <td>0.00</td>\n",
       "      <td>0.45</td>\n",
       "      <td>5.89</td>\n",
       "      <td>45.02</td>\n",
       "      <td>2.10</td>\n",
       "      <td>4.00</td>\n",
       "      <td>279.00</td>\n",
       "      <td>17.40</td>\n",
       "      <td>375.38</td>\n",
       "      <td>6.95</td>\n",
       "      <td>17.02</td>\n",
       "    </tr>\n",
       "    <tr>\n",
       "      <th>50%</th>\n",
       "      <td>0.26</td>\n",
       "      <td>0.00</td>\n",
       "      <td>9.69</td>\n",
       "      <td>0.00</td>\n",
       "      <td>0.54</td>\n",
       "      <td>6.21</td>\n",
       "      <td>77.50</td>\n",
       "      <td>3.21</td>\n",
       "      <td>5.00</td>\n",
       "      <td>330.00</td>\n",
       "      <td>19.05</td>\n",
       "      <td>391.44</td>\n",
       "      <td>11.36</td>\n",
       "      <td>21.20</td>\n",
       "    </tr>\n",
       "    <tr>\n",
       "      <th>75%</th>\n",
       "      <td>3.68</td>\n",
       "      <td>12.50</td>\n",
       "      <td>18.10</td>\n",
       "      <td>0.00</td>\n",
       "      <td>0.62</td>\n",
       "      <td>6.62</td>\n",
       "      <td>94.07</td>\n",
       "      <td>5.19</td>\n",
       "      <td>24.00</td>\n",
       "      <td>666.00</td>\n",
       "      <td>20.20</td>\n",
       "      <td>396.23</td>\n",
       "      <td>16.96</td>\n",
       "      <td>25.00</td>\n",
       "    </tr>\n",
       "    <tr>\n",
       "      <th>max</th>\n",
       "      <td>88.98</td>\n",
       "      <td>100.00</td>\n",
       "      <td>27.74</td>\n",
       "      <td>1.00</td>\n",
       "      <td>0.87</td>\n",
       "      <td>8.78</td>\n",
       "      <td>100.00</td>\n",
       "      <td>12.13</td>\n",
       "      <td>24.00</td>\n",
       "      <td>711.00</td>\n",
       "      <td>22.00</td>\n",
       "      <td>396.90</td>\n",
       "      <td>37.97</td>\n",
       "      <td>50.00</td>\n",
       "    </tr>\n",
       "  </tbody>\n",
       "</table>\n",
       "</div>"
      ],
      "text/plain": [
       "        crim     zn  indus   chas    nox     rm    age    dis    rad    tax  \\\n",
       "count 506.00 506.00 506.00 506.00 506.00 506.00 506.00 506.00 506.00 506.00   \n",
       "mean    3.61  11.36  11.14   0.07   0.55   6.28  68.57   3.80   9.55 408.24   \n",
       "std     8.60  23.32   6.86   0.25   0.12   0.70  28.15   2.11   8.71 168.54   \n",
       "min     0.01   0.00   0.46   0.00   0.39   3.56   2.90   1.13   1.00 187.00   \n",
       "25%     0.08   0.00   5.19   0.00   0.45   5.89  45.02   2.10   4.00 279.00   \n",
       "50%     0.26   0.00   9.69   0.00   0.54   6.21  77.50   3.21   5.00 330.00   \n",
       "75%     3.68  12.50  18.10   0.00   0.62   6.62  94.07   5.19  24.00 666.00   \n",
       "max    88.98 100.00  27.74   1.00   0.87   8.78 100.00  12.13  24.00 711.00   \n",
       "\n",
       "       ptratio      b  lstat   medv  \n",
       "count   506.00 506.00 506.00 506.00  \n",
       "mean     18.46 356.67  12.65  22.53  \n",
       "std       2.16  91.29   7.14   9.20  \n",
       "min      12.60   0.32   1.73   5.00  \n",
       "25%      17.40 375.38   6.95  17.02  \n",
       "50%      19.05 391.44  11.36  21.20  \n",
       "75%      20.20 396.23  16.96  25.00  \n",
       "max      22.00 396.90  37.97  50.00  "
      ]
     },
     "execution_count": 15,
     "metadata": {},
     "output_type": "execute_result"
    }
   ],
   "source": [
    "data.describe()"
   ]
  },
  {
   "cell_type": "code",
   "execution_count": 16,
   "metadata": {},
   "outputs": [
    {
     "name": "stdout",
     "output_type": "stream",
     "text": [
      "<class 'pandas.core.frame.DataFrame'>\n",
      "RangeIndex: 506 entries, 0 to 505\n",
      "Data columns (total 3 columns):\n",
      " #   Column   Non-Null Count  Dtype  \n",
      "---  ------   --------------  -----  \n",
      " 0   rm       506 non-null    float64\n",
      " 1   ptratio  506 non-null    float64\n",
      " 2   lstat    506 non-null    float64\n",
      "dtypes: float64(3)\n",
      "memory usage: 12.0 KB\n"
     ]
    },
    {
     "data": {
      "text/plain": [
       "Index(['rm', 'ptratio', 'lstat'], dtype='object')"
      ]
     },
     "execution_count": 16,
     "metadata": {},
     "output_type": "execute_result"
    }
   ],
   "source": [
    "# Load the Boston housing dataset\n",
    "prices = data['medv']\n",
    "features = data.drop(['medv','zn','crim','indus','chas','nox','age','rad','dis','b','tax'], axis='columns')\n",
    "# Success,\n",
    "\n",
    "features.info()\n",
    "features.columns\n",
    "\n",
    "#RM = average number of rooms among homes in the neighborhood.\n",
    "#LSTAT' is the percentage of homeowners in the neighborhood considered \"lower class\" (working poor)\n",
    "#PTRATIO' is the ratio of students to teachers in primary and secondary schools in the neighborhood"
   ]
  },
  {
   "cell_type": "code",
   "execution_count": 17,
   "metadata": {},
   "outputs": [
    {
     "data": {
      "text/plain": [
       "count   506.00\n",
       "mean     22.53\n",
       "std       9.20\n",
       "min       5.00\n",
       "25%      17.02\n",
       "50%      21.20\n",
       "75%      25.00\n",
       "max      50.00\n",
       "Name: medv, dtype: float64"
      ]
     },
     "execution_count": 17,
     "metadata": {},
     "output_type": "execute_result"
    }
   ],
   "source": [
    "#EDA\n",
    "# TODO: Minimum price of the data\n",
    "minimum_price = np.min(prices)\n",
    "minimum_price\n",
    "\n",
    "maximum_price = prices.max()\n",
    "# mean_price = prices.mean()\n",
    "prices.describe()"
   ]
  },
  {
   "cell_type": "code",
   "execution_count": 18,
   "metadata": {},
   "outputs": [
    {
     "data": {
      "text/plain": [
       "7.975000000000001"
      ]
     },
     "execution_count": 18,
     "metadata": {},
     "output_type": "execute_result"
    }
   ],
   "source": [
    "# There are other statistics you can calculate too like quartiles\n",
    "first_quartile = np.percentile(prices, 25)\n",
    "third_quartile = np.percentile(prices, 75)\n",
    "inter_quartile = third_quartile - first_quartile\n",
    "inter_quartile"
   ]
  },
  {
   "cell_type": "code",
   "execution_count": 19,
   "metadata": {},
   "outputs": [
    {
     "data": {
      "image/png": "[encoded data removed]",
      "text/plain": [
       "<Figure size 1440x360 with 3 Axes>"
      ]
     },
     "metadata": {
      "needs_background": "light"
     },
     "output_type": "display_data"
    }
   ],
   "source": [
    "import matplotlib.pyplot as plt\n",
    "plt.figure(figsize=(20, 5))\n",
    "# i: index\n",
    "for i, col in enumerate(features.columns):\n",
    "    # 3 plots here hence 1, 3\n",
    "    plt.subplot(1, 3, i+1)\n",
    "    x = data[col]\n",
    "    y = prices\n",
    "    plt.plot(x, y, 'o')\n",
    "    # Create regression line\n",
    "    plt.plot(np.unique(x), np.poly1d(np.polyfit(x, y, 1))(np.unique(x)))\n",
    "    plt.title(col)\n",
    "    plt.xlabel(col)\n",
    "    plt.ylabel('prices')\n",
    "    plt.ylabel('prices')"
   ]
  },
  {
   "cell_type": "code",
   "execution_count": 20,
   "metadata": {},
   "outputs": [],
   "source": [
    "from sklearn.metrics import r2_score\n",
    "def performance_metric(y_true, y_predict):\n",
    "    \"\"\" Calculates and returns the performance score between \n",
    "        true and predicted values based on the metric chosen. \"\"\"\n",
    "\n",
    "    # TODO: Calculate the performance score between 'y_true' and 'y_predict'\n",
    "    score = r2_score(y_true, y_predict)\n",
    "\n",
    "    # Return the score\n",
    "    return score"
   ]
  },
  {
   "cell_type": "code",
   "execution_count": 21,
   "metadata": {},
   "outputs": [
    {
     "name": "stdout",
     "output_type": "stream",
     "text": [
      "Training and testing split was successful\n"
     ]
    }
   ],
   "source": [
    "# TODO: Import 'train_test_split'\n",
    "from sklearn.model_selection import cross_validate\n",
    "from sklearn.model_selection import train_test_split\n",
    "\n",
    "# TODO: Shuffle and split the data into training and testing subsets\n",
    "X_train, X_test, y_train, y_test = train_test_split(features, prices, test_size=0.2, random_state=10)\n",
    "\n",
    "# Success\n",
    "print (\"Training and testing split was successful\")"
   ]
  },
  {
   "cell_type": "code",
   "execution_count": 22,
   "metadata": {},
   "outputs": [
    {
     "data": {
      "text/plain": [
       "Text(0.5, 1.0, 'Prices vs Predicted prices: $Y_i$ vs $\\\\hat{Y}_i$')"
      ]
     },
     "execution_count": 22,
     "metadata": {},
     "output_type": "execute_result"
    },
    {
     "data": {
      "image/png": "[encoded data removed]",
      "text/plain": [
       "<Figure size 432x288 with 1 Axes>"
      ]
     },
     "metadata": {
      "needs_background": "light"
     },
     "output_type": "display_data"
    }
   ],
   "source": [
    "from sklearn.linear_model import LinearRegression\n",
    "lm = LinearRegression()\n",
    "lm.fit(X_train, y_train)\n",
    "\n",
    "Y_pred = lm.predict(X_test)\n",
    "plt.scatter(y_test, Y_pred)\n",
    "\n",
    "plt.xlabel(\"Prices: $Y_i$\")\n",
    "plt.ylabel(\"Predicted prices: $\\hat{Y}_i$\")\n",
    "plt.title(\"Prices vs Predicted prices: $Y_i$ vs $\\hat{Y}_i$\")"
   ]
  },
  {
   "cell_type": "markdown",
   "metadata": {},
   "source": [
    "# <font color=\"Dark Green\"> Loss Function </font>"
   ]
  },
  {
   "cell_type": "code",
   "execution_count": 23,
   "metadata": {},
   "outputs": [
    {
     "data": {
      "text/plain": [
       "35.89121846491314"
      ]
     },
     "execution_count": 23,
     "metadata": {},
     "output_type": "execute_result"
    }
   ],
   "source": [
    "from sklearn.metrics import mean_squared_error\n",
    "mse = mean_squared_error(y_test, Y_pred)\n",
    "mse\n",
    "\n",
    "#With an accuracy of 64% this isnt a very good model to say we can try further other mdoels as well"
   ]
  },
  {
   "cell_type": "markdown",
   "metadata": {},
   "source": [
    "For continuous outcomes, we define a loss function __[ALSO KNOWN AS ERROR]__ to evaluate the model. The most commonly used one is MSE (Mean Squared Error). The reason why we care about the conditional expectation in machine learning is that the expected value minimizes the MSE:"
   ]
  },
  {
   "cell_type": "markdown",
   "metadata": {},
   "source": [
    "__minimizesE{(Y^−Y)2|X=x}__    i.e. Actual Vs Predicted"
   ]
  },
  {
   "cell_type": "markdown",
   "metadata": {},
   "source": [
    "# Logistic Regression "
   ]
  },
  {
   "cell_type": "markdown",
   "metadata": {},
   "source": [
    "<img src=\"Logistic_Reg.JPG\" style=\"width:200px; height:110px\"/>"
   ]
  },
  {
   "cell_type": "markdown",
   "metadata": {},
   "source": [
    "__where \n",
    "P\n",
    "(\n",
    "y\n",
    "i\n",
    "=\n",
    "1\n",
    "∣\n",
    "X\n",
    ")\n",
    " is the probability of the \n",
    "i\n",
    "th observation’s target value, \n",
    "y\n",
    "i__    \n",
    "__<font color = \"Olive Green\">X\n",
    "  is the training data, \n",
    "β\n",
    "0\n",
    " and \n",
    "β\n",
    "1\n",
    " are the parameters to be learned, and \n",
    "e\n",
    " is Euler’s number</font>__"
   ]
  },
  {
   "cell_type": "markdown",
   "metadata": {},
   "source": [
    "__How it works:__    \n",
    "\n",
    "* We fit an \"S\" Shape logistic Function    \n",
    "* The curve tells you the porbability if a loan is good or bad    \n",
    "* If we have a high Credit score, there is a high probability that it's a good loan    "
   ]
  },
  {
   "cell_type": "markdown",
   "metadata": {},
   "source": [
    "<img src=\"Sigmoid Function.JPG\" style=\"width:550px; height:310px\"/>"
   ]
  },
  {
   "cell_type": "markdown",
   "metadata": {},
   "source": [
    "__SOME OF THE VERY IMP TERMS:__\n",
    "- <Font color= \"Olive\">__Null Deviance__ - this shows that how the outcome var is predicted by the model given that it only includes the intercept. i.e. there are no explanatory vars in the model</font>. \n",
    "    - <Font color= \"Olive\">The lower the deviance the better the model</font>    \n",
    "- <Font color = \"Bold Green\">Residual Deviance- this shows that how the outcome var is predicted by the model when we HAVE INCLUDED THE PREDICTOR VARS. __we should check the deviance of both null and residual deviance and lower should be better__"
   ]
  },
  {
   "cell_type": "markdown",
   "metadata": {},
   "source": [
    "## Key Points:\n",
    "- __LL = loglikelihood__    \n",
    "- __Null Deviance = 2(LL(Saturated Model) - LL(Null Model)) on df = df_Sat - df_Null__    \n",
    "- __Residual Deviance = 2(LL(Saturated Model) - LL(Proposed Model)) df = df_Sat - df_Proposed__    \n",
    "\n",
    "<font color = \"Brown\">__The Saturated Model is a model that assumes each data point has its own parameters (which means you have n parameters to estimate.)__    \n",
    "__The Null Model assumes the exact \"opposite\", in that is assumes one parameter for all of the data points, which means you only estimate 1 parameter.__    \n",
    "__The Proposed Model assumes you can explain your data points with p parameters + an intercept term, so you have p+1 parameters.__    \n",
    "__If your Null Deviance is really small, it means that the Null Model explains the data pretty well. Likewise with your Residual Deviance.__    \n",
    "__What does really small mean? If your model is \"good\" then your Deviance is approx Chi^2 with (df_sat - df_model) degrees of freedom__"
   ]
  },
  {
   "cell_type": "markdown",
   "metadata": {},
   "source": [
    "## AIC and BIC \n",
    "<font color=\"Gree\">__Akaike information criterion- it is used to measure how good the quality of the model is in  comparision to the other models. The lowest val of AIC amongst all models should be selected:__        \n",
    "\n",
    "- __AIC = -2(log-likelihood) + 2K__    \n",
    "    \n",
    "- K is the number of model parameters (the number of variables in the model plus the intercept).    \n",
    "- Log-likelihood is a measure of model fit,    \n",
    "\n",
    "- __LIKELIHOOD - tells about how likely is the independent variables impact the outcome variable__   \n",
    "\n",
    "\n"
   ]
  },
  {
   "cell_type": "markdown",
   "metadata": {},
   "source": [
    "### Maximum Likelihood\n",
    "Likelihood function: - L of theta. Theta is a vector with 2 values: mean and SD. This is true if we are dealing with a normal/ gaussian distribution.    \n",
    "The L of theta measures the prob of observing a point xi[value in data] if we know the parameters of distribution, in case of normal distribution it will be mean and SD.    \n",
    "__Maximum likelihood estimation is a probabilistic framework for automatically finding the probability distribution and parameters that best describe the observed data__\n"
   ]
  },
  {
   "cell_type": "markdown",
   "metadata": {},
   "source": [
    "### Co-efficients"
   ]
  },
  {
   "cell_type": "markdown",
   "metadata": {},
   "source": [
    "__Co-efficients in Logistic regression model describe the impact the independent var has on dependent var.__ The positive coefficient of a var means the independent variable has a positive impact and a negative coefficient means it has a negative impact..    \n",
    "\n",
    "!- __The magnitude of the coefficients:__        \n",
    "    - We can also compare coefficients in terms of their magnitudes. In the case of the coefficients for the categorical variables, we need to compare the differences between categories."
   ]
  },
  {
   "cell_type": "markdown",
   "metadata": {},
   "source": [
    "### Odds Ratio "
   ]
  },
  {
   "cell_type": "markdown",
   "metadata": {},
   "source": [
    "<font color = 'purple'>To understand odds ratios we first need a definition of odds, which is the ratio of\n",
    "the probabilities of two mutually exclusive outcomes. Consider our prediction of the probability of churn of 13% from the earlier section on probabilities.    \n",
    "As the probability of churn is 13%, the probability of non-churn is 100% - 13% = 87%, and thus the odds are 13% versus 87%"
   ]
  },
  {
   "cell_type": "code",
   "execution_count": 24,
   "metadata": {},
   "outputs": [],
   "source": [
    "from sklearn.linear_model import LogisticRegression\n",
    "from sklearn import datasets\n",
    "from sklearn.preprocessing import StandardScaler\n"
   ]
  },
  {
   "cell_type": "markdown",
   "metadata": {},
   "source": [
    "__<font color= \"Sky\"> The idea behind StandardScaler is that it will transform your data such that its distribution will have a mean value 0 and standard deviation of 1</font>__"
   ]
  },
  {
   "cell_type": "markdown",
   "metadata": {},
   "source": [
    "### ROC AND AUC"
   ]
  },
  {
   "cell_type": "markdown",
   "metadata": {},
   "source": [
    "1. ROC is a probability curve and AUC represents degree or measure of separability    \n",
    "1. It tells how much model is capable of distinguishing between classes    \n",
    "1. Higher the AUC, better the model is at predicting 0s as 0s and 1s as 1s    \n",
    "1. The ROC curve is plotted with TPR against the FPR where TPR is on y-axis and FPR is on the x-axis.    "
   ]
  },
  {
   "cell_type": "markdown",
   "metadata": {},
   "source": [
    "<img src=\"ROC_Curve.JPG\" style=\"width:290px; height:210px\"/>"
   ]
  },
  {
   "cell_type": "markdown",
   "metadata": {},
   "source": [
    "## IRIS Data "
   ]
  },
  {
   "cell_type": "code",
   "execution_count": 25,
   "metadata": {},
   "outputs": [],
   "source": [
    "from sklearn.datasets import make_classification\n",
    "from sklearn.metrics import confusion_matrix"
   ]
  },
  {
   "cell_type": "code",
   "execution_count": 26,
   "metadata": {},
   "outputs": [
    {
     "data": {
      "text/plain": [
       "\"\\nIf you don't specify the random_state in your code, then every time you run(execute) \\nyour code a new random value is generated and the train and test datasets would have different values \\neach time. this is useful from reproducability if we share the notebook with someone they will see simialr outcome\\n\""
      ]
     },
     "execution_count": 26,
     "metadata": {},
     "output_type": "execute_result"
    }
   ],
   "source": [
    "clf = LogisticRegression(random_state=0)\n",
    "\"\"\"\n",
    "If you don't specify the random_state in your code, then every time you run(execute) \n",
    "your code a new random value is generated and the train and test datasets would have different values \n",
    "each time. this is useful from reproducability if we share the notebook with someone they will see simialr outcome\n",
    "\"\"\""
   ]
  },
  {
   "cell_type": "code",
   "execution_count": 27,
   "metadata": {
    "code_folding": []
   },
   "outputs": [],
   "source": [
    "# Generate and dataset for Logistic Regression\n",
    "x, y = make_classification(\n",
    "    n_samples=100,\n",
    "    n_features=1,\n",
    "    n_classes=2,\n",
    "    n_clusters_per_class=1,\n",
    "    flip_y=0.03,\n",
    "    n_informative=1,\n",
    "    n_redundant=0,\n",
    "    n_repeated=0\n",
    ")"
   ]
  },
  {
   "cell_type": "code",
   "execution_count": 28,
   "metadata": {},
   "outputs": [
    {
     "data": {
      "image/png": "[encoded data removed]",
      "text/plain": [
       "<Figure size 432x288 with 1 Axes>"
      ]
     },
     "metadata": {
      "needs_background": "light"
     },
     "output_type": "display_data"
    }
   ],
   "source": [
    "# Create a scatter plot\n",
    "# from matplotlib import pyplot as plt\n",
    "plt.scatter(x, y, c=y, cmap='rainbow')\n",
    "plt.title('Scatter Plot of Logistic Regression')\n",
    "plt.show()"
   ]
  },
  {
   "cell_type": "code",
   "execution_count": 29,
   "metadata": {},
   "outputs": [
    {
     "data": {
      "text/plain": [
       "(75, 25)"
      ]
     },
     "execution_count": 29,
     "metadata": {},
     "output_type": "execute_result"
    }
   ],
   "source": [
    "# Split the dataset into training and test dataset\n",
    "from sklearn.model_selection import train_test_split\n",
    "x_train, x_test, y_train, y_test = train_test_split(x, y, random_state=1)\n",
    "len(x_train), len(x_test)"
   ]
  },
  {
   "cell_type": "code",
   "execution_count": 30,
   "metadata": {},
   "outputs": [
    {
     "data": {
      "text/plain": [
       "LogisticRegression()"
      ]
     },
     "execution_count": 30,
     "metadata": {},
     "output_type": "execute_result"
    }
   ],
   "source": [
    "# Create a Logistic Regression Object, perform Logistic Regression\n",
    "log_reg = LogisticRegression()\n",
    "log_reg.fit(x_train, y_train)"
   ]
  },
  {
   "cell_type": "code",
   "execution_count": 31,
   "metadata": {},
   "outputs": [
    {
     "name": "stdout",
     "output_type": "stream",
     "text": [
      "[[2.67599808]]\n",
      "[0.41235018]\n"
     ]
    }
   ],
   "source": [
    "# Show to Coeficient and Intercept\n",
    "print(log_reg.coef_) # coefficient of the regression model, coefficioent with whom we multiply our vars\n",
    "print(log_reg.intercept_)"
   ]
  },
  {
   "cell_type": "code",
   "execution_count": 32,
   "metadata": {},
   "outputs": [
    {
     "name": "stdout",
     "output_type": "stream",
     "text": [
      "[1 1 0 1 0 0 0 1 1 0 0 0 0 0 0 0 0 0 0 0 1 0 0 0 0]\n"
     ]
    }
   ],
   "source": [
    "# Perform prediction using the test dataset\n",
    "y_pred = log_reg.predict(x_test)\n",
    "print(y_pred)"
   ]
  },
  {
   "cell_type": "code",
   "execution_count": 33,
   "metadata": {},
   "outputs": [
    {
     "data": {
      "text/plain": [
       "array([[18,  0],\n",
       "       [ 1,  6]], dtype=int64)"
      ]
     },
     "execution_count": 33,
     "metadata": {},
     "output_type": "execute_result"
    }
   ],
   "source": [
    "# Show the Confusion Matrix\n",
    "confusion_matrix(y_test, y_pred)\n",
    "# 8 = true positive \n",
    "# 16 = true negative \n",
    "#1 = false positive and 0 is false negative "
   ]
  },
  {
   "cell_type": "markdown",
   "metadata": {},
   "source": [
    "# Linear ALgebra"
   ]
  },
  {
   "cell_type": "markdown",
   "metadata": {},
   "source": [
    "1. __Vectors__ are collections or series of numbers    \n",
    "1. All colour images are constructed in a series of 3 numbers R,G and B - Red green and blue and each matrix in RGB will have respective number    \n",
    "1. __Scalar__ in a single number     \n",
    "1. __A matrix__ is a rectangular grid of numbers or terms (like an Excel spreadsheet) with special rules for addition, subtraction, and multiplication. It is like a vector which has equal rows and columns     \n",
    "1. In mathematics, the __tensor algebra__ of a vector space V, denoted T or T•, is the algebra of tensors on V with multiplication being the tensor product    \n",
    "1. __Zero Order Tensor__ = (zero-order tensors) are numbers with no specific order for example a scalar is a tensor       \n",
    "1. __(first-order tensors)__= Quantities with one associated direction. one row a vector    \n",
    "1. __Second Order Tensor__ = 2 rows and 2 column and then so on and so forth also known as <font color = \"Green\">__Matrix__</font>       \n",
    "1. __Dimensions__ in the vector refer to individual components, in the pic below first vector has 3 dimensions of 2, -8 and 7    \n",
    "1. Videos are examples of 4th order tensor    \n",
    "1. __DOT Product__ = The dot product of two vectors is a scalar. Dot product of vectors and matrices (matrix multiplication) is one of the most important operations in deep learning. Chart 2 is dot product     \n",
    "1. __Modulus__ = remainder when we do a division    \n",
    "1. __CrossProduct__ = "
   ]
  },
  {
   "cell_type": "markdown",
   "metadata": {},
   "source": [
    "<img src=\"Linear_Algebra.JPG\" style=\"width:390px; height:110px\"/>\n",
    "<img src=\"Dot_Product.png\" style = \"width:390px; height:110px\"/>"
   ]
  },
  {
   "cell_type": "code",
   "execution_count": 34,
   "metadata": {},
   "outputs": [
    {
     "data": {
      "text/plain": [
       "20"
      ]
     },
     "execution_count": 34,
     "metadata": {},
     "output_type": "execute_result"
    }
   ],
   "source": [
    "y = np.array([1,2,3])\n",
    "x = np.array([2,3,4])\n",
    "np.dot(y,x)\n",
    "# "
   ]
  },
  {
   "cell_type": "code",
   "execution_count": 35,
   "metadata": {},
   "outputs": [
    {
     "data": {
      "text/plain": [
       "array([[1, 2, 3],\n",
       "       [4, 5, 6]])"
      ]
     },
     "execution_count": 35,
     "metadata": {},
     "output_type": "execute_result"
    }
   ],
   "source": [
    "import numpy as np\n",
    "a = np.array([\n",
    " [1,2,3],\n",
    " [4,5,6]\n",
    "])\n",
    "a"
   ]
  },
  {
   "cell_type": "code",
   "execution_count": 36,
   "metadata": {},
   "outputs": [
    {
     "ename": "SyntaxError",
     "evalue": "invalid syntax (<ipython-input-36-a5b1ba1a951d>, line 3)",
     "output_type": "error",
     "traceback": [
      "\u001b[1;36m  File \u001b[1;32m\"<ipython-input-36-a5b1ba1a951d>\"\u001b[1;36m, line \u001b[1;32m3\u001b[0m\n\u001b[1;33m    [3,4]])http://localhost:8888/notebooks/Conditional%20Probability%20.ipynb#Euclidean-Distance\u001b[0m\n\u001b[1;37m              ^\u001b[0m\n\u001b[1;31mSyntaxError\u001b[0m\u001b[1;31m:\u001b[0m invalid syntax\n"
     ]
    }
   ],
   "source": [
    "a = np.array(\n",
    "[[1,2],\n",
    " [3,4]])http://localhost:8888/notebooks/Conditional%20Probability%20.ipynb#Euclidean-Distance\n",
    "a * 4"
   ]
  },
  {
   "cell_type": "markdown",
   "metadata": {},
   "source": [
    "# Distance Measures "
   ]
  },
  {
   "cell_type": "markdown",
   "metadata": {},
   "source": [
    "## Euclidean Distance\n",
    "__Euclidean distance is the distance we can measure betweeen the 2 points__    \n",
    "between 2 points the distance is measured connected by a line is euclidean distance    \n",
    "<font color=\"orange\">It is square root of sum of each of the dimension minus each of the dimension  \n"
   ]
  },
  {
   "cell_type": "code",
   "execution_count": null,
   "metadata": {},
   "outputs": [],
   "source": [
    "from math import sqrt\n",
    "plot1= [1,3]\n",
    "plot2= [7,10]\n",
    "\n",
    "euc= sqrt((plot1[0]-plot2[0]) **2+ (plot1[1]-plot2[1])**2 )\n",
    "print(euc)"
   ]
  },
  {
   "cell_type": "code",
   "execution_count": null,
   "metadata": {},
   "outputs": [],
   "source": [
    "# Another way to do the same \n",
    "import numpy as np\n",
    "diff = np.array([1, 3]) - np.array([7, 10])\n",
    "sqerr= np.sqrt(diff @ diff)\n",
    "sqerr"
   ]
  },
  {
   "cell_type": "markdown",
   "metadata": {},
   "source": [
    "## <font color= \"red\">Cosine Similarity "
   ]
  },
  {
   "cell_type": "markdown",
   "metadata": {},
   "source": [
    "__Here r = rating and A and B are the users__:    \n",
    "sim(A,B) = cos(rA, rB) we find cosine of the angle - The problem with Cosine Similarity is that it treat missing values as negative\n",
    "\n",
    "To take care of this we can use Centered Cosine :    \n",
    "here we take the row average of all the ratings user has given and then substract each rating from the average rating and then take the cosine. The centered Cosine is same as __PEARSON CORRELATION__"
   ]
  },
  {
   "cell_type": "markdown",
   "metadata": {},
   "source": [
    "## Jaccard Similarity "
   ]
  },
  {
   "cell_type": "code",
   "execution_count": null,
   "metadata": {},
   "outputs": [],
   "source": []
  },
  {
   "cell_type": "markdown",
   "metadata": {},
   "source": [
    "## Matrix Factorization "
   ]
  },
  {
   "cell_type": "markdown",
   "metadata": {},
   "source": [
    "### Recommendation Engine "
   ]
  },
  {
   "cell_type": "markdown",
   "metadata": {},
   "source": [
    "__Matrix Factorization__ is one of the ways to build a recommendation engine "
   ]
  },
  {
   "cell_type": "markdown",
   "metadata": {},
   "source": [
    "1. __Matrix Factorization__ can help to reduce sparse matrix    \n",
    "1. Helps to break a matrix into various components    \n",
    "1. Example of breaking a matrix would be there are 1000 users and 100 movies which they have rated    \n",
    "1. <font color='red'> our analysis is to identify what are the hidden latent charactersitics due ot which a user likes movie for example genre such as action, comedy, etc.</font>        \n",
    "1. Some of the other ways to build recommendation systems are:    \n",
    "    - Popularity of the items \n",
    "    - Classification basis the type of product, features, price, purchase history etc.    \n",
    "    \n",
    "1. Nearest Neighbour Approach -similarity between the items, similarity between the group who made a purchase    \n",
    "1. Item based Collaborative Filtering - example items A and B are purchased by both users X and Y     \n",
    "1. User Based collaborative filtering - example X and Y are users who both liked items/ movies A and B. __For this we need a similarity metrics between these 2 users x and y__ we can use multiple similarity matrix like :    \n",
    "    - __<font color= 'Bold Orange'>Jaccard Similarity__ : r[a] intersection r[b] where r = rating and a and b are the users divided by r [a] union r [b]       \n",
    "    - _The problem with Jaccard similarity is that it ignores the rating as in it does not take into account whether one user liked a movie and if the other user also liked the same movie or not_    \n",
    "    \n",
    "    - __<font color ='Bold Pink'> Cosine Similarity__: sim(A,B) = cos(rA, rB) we find cosine of the angle       - _The problem with Cosine Similarity is that it treat missing values as negative_    \n",
    "    - __To take care of this we can use Centered Cosine__ : here we take the row average of all the ratings user has given and then substract each rating from the average rating and then take the cosine. <font color='peach'> __The centered Cosine is same as PEARSON CORRELATION__"
   ]
  },
  {
   "cell_type": "markdown",
   "metadata": {},
   "source": [
    "# KNN- __<font color= \"Orange\">Non Parametric </font>__"
   ]
  },
  {
   "cell_type": "markdown",
   "metadata": {},
   "source": [
    "<font color= \"Red\">This is an imp algorithm specially for Image and Digits Similarity.         \n",
    "__In an image every pixel has a grey scale from 0-255, 0 means completely black and 255 means completly white__</font>    \n",
    "__Rather than finding the most nearest neighbour, we look for the nth nearest neighbiour, 2nd nearest, 5th nearest,k nearest etc.__\n",
    "\n",
    "1. Generally __\"K\"__ gets decided based on square root of data points   \n",
    "1. <font color=\"red\">__Data Normalization THIS IS A MUST__</font>  \n"
   ]
  },
  {
   "cell_type": "code",
   "execution_count": null,
   "metadata": {},
   "outputs": [],
   "source": [
    "weather=['Sunny','Sunny','Overcast','Rainy','Rainy','Rainy','Overcast','Sunny','Sunny',\n",
    "'Rainy','Sunny','Overcast','Overcast','Rainy']\n",
    "temp=['Hot','Hot','Hot','Mild','Cool','Cool','Cool','Mild','Cool','Mild','Mild','Mild','Hot','Mild']\n"
   ]
  },
  {
   "cell_type": "code",
   "execution_count": null,
   "metadata": {},
   "outputs": [],
   "source": [
    "# Label or target varible\n",
    "play=['No','No','Yes','Yes','Yes','No','Yes','No','Yes','Yes','Yes','Yes','Yes','No']"
   ]
  },
  {
   "cell_type": "code",
   "execution_count": null,
   "metadata": {},
   "outputs": [],
   "source": [
    "#Encoding data columns\n",
    "# Import LabelEncoder\n",
    "from sklearn import preprocessing\n",
    "#creating labelEncoder\n",
    "le = preprocessing.LabelEncoder()\n",
    "weather_encoded=le.fit_transform(weather)\n",
    "print(weather_encoded)"
   ]
  },
  {
   "cell_type": "code",
   "execution_count": null,
   "metadata": {},
   "outputs": [],
   "source": [
    "# converting string labels into numbers\n",
    "temp_encoded=le.fit_transform(temp)\n",
    "label=le.fit_transform(play)"
   ]
  },
  {
   "cell_type": "code",
   "execution_count": null,
   "metadata": {},
   "outputs": [],
   "source": [
    "#combinig weather and temp into single listof tuples\n",
    "features=list(zip(weather_encoded,temp_encoded))"
   ]
  },
  {
   "cell_type": "code",
   "execution_count": null,
   "metadata": {},
   "outputs": [],
   "source": [
    "from sklearn.neighbors import KNeighborsClassifier\n",
    "model = KNeighborsClassifier(n_neighbors=3)\n",
    "# Train the model using the training sets\n",
    "model.fit(features,label)"
   ]
  },
  {
   "cell_type": "markdown",
   "metadata": {},
   "source": [
    "<font color=\"Magenta\">__BY DEFAULT KNN USES MINKOWSKI DISTANCE MEASURE HOWVER WE CAN ALSO USE Euclidean Method OR Minkowski Method</font>__"
   ]
  },
  {
   "cell_type": "code",
   "execution_count": null,
   "metadata": {},
   "outputs": [],
   "source": [
    "#Predict Output\n",
    "predicted= model.predict([[0,2]]) # 0:Overcast, 2:Mild\n",
    "print(predicted)\n",
    "# the output 1 means Play"
   ]
  },
  {
   "cell_type": "markdown",
   "metadata": {},
   "source": [
    "# K Fold Cross Validation "
   ]
  },
  {
   "cell_type": "markdown",
   "metadata": {},
   "source": [
    "1. __In case we don’t have  a test data set: we can use a technique as Cross Validation or 10 fold CV__    \n",
    "1. __Here we are divinding the entire training set into 10 equal pieces assuming our training data set has 60,000 points call it S, then we will have s1, s2, s3 till s10 data sets with each 6000 data points__   \n",
    "1. Now we will take each above s1, s2 data set at a time and think of it as a TEST SET    \n",
    "1. The remaining 9 sets are TRAINING SETS. Now each point in S data set i.e. 6000 points will classify using the remaining 54000 points.    This will give us an error rate of Test data S1    \n",
    "1. <font color='red'>__One of the main Example of Bagging Model is a {RANDOM FORREST} MODEL__</font>\n",
    "\n"
   ]
  },
  {
   "cell_type": "markdown",
   "metadata": {},
   "source": [
    "# Decision Tree "
   ]
  },
  {
   "cell_type": "markdown",
   "metadata": {},
   "source": [
    "## Key Terms & Defintions"
   ]
  },
  {
   "cell_type": "markdown",
   "metadata": {},
   "source": [
    "1. IN a decision tree, every decision rule occurs at a decision node, A branch without a decision rule at the end is called a __leaf__    \n",
    "1. Bagging: It is the process of \"NOT\" taking the entire data set at once, rather creating smaller datasets from the main data set    \n",
    "1. Similaryl rater than taking all the features, in bagging we take some of the features and continuously change the combinations    \n",
    "1. __ROOT NODE__: It represents entire population or sample and this further gets divided into two or more homogeneous sets    \n",
    "1. __Decision Node__: When a sub nodes splits into further sub nodes    \n",
    "1. __Pruning__: When we remove sub nodes of a decision tree it is called pruning to avoid over fitting        \n",
    "1. __Parent and Child Node__: A node which is divided into a sub node is called as parent whereas the sub nodes are the child nodes of parent nodes   \n",
    "    - <FONT COLOR=\"OLIVE\">__RANDOM FOREST__</FONT>\n",
    "  - <font color= 'red'>__RF divides the entire data into smaller subsets and then further uses them with somethng called as replacement aka Bootstrap Sampling__</font>    \n",
    "  - Random Forrest Uses samples of input data with replacement known as \"__Bootstrap Sampling__\".    \n",
    "  - Here 1/3rd data is not used for training and can be used for testing. This is known as \"__{OOB - Out Of Bag}\" Error__. As a result, RF uses Oob hence the need for a separate test data set is removed    \n",
    "  - HOW TO FIND OPTIMAL NUMBER OF TREES IN THE FOREST:    \n",
    "      : For regression: Mean Square of error [MSE]         \n",
    "      : For classification: Gini Index     \n",
    "  - HOW TO FIND OPTIMAL NUMBER OF PREDCITORS IN THE FOREST:    \n",
    "      : For regression:  one third of obs     \n",
    "      : For classification : sqrt(k) i.e. square root of number of variables   \n",
    "  - <FONT COLOR = \"ORANGE\">First try with by default, increase and decrease and whats optimal  </FONT>  "
   ]
  },
  {
   "cell_type": "markdown",
   "metadata": {},
   "source": [
    "## Information Gain and Entropy"
   ]
  },
  {
   "cell_type": "markdown",
   "metadata": {},
   "source": [
    "- The core algorithm for building decision trees called ID3    \n",
    "- ID3 uses Entropy and Information Gain to construct a decision tree    \n",
    "- Entropy: ID3 algorithm uses entropy to calculate the homogeneity of a sample [ similar values]     \n",
    "-  If the sample is completely homogeneous the entropy is zero and if the sample is an equally divided it has entropy of one. As the entropy is a sum probabilities so it goes from 0 to 1    \n",
    "- Information Gain: IG (Y|X) = H(Y)  - H(Y|X)    \n",
    "- THIS ABOVE formula means, whatis the entropy of Y and what is the entropy of Y given that we know the value of x   \n",
    "- the bigger the IG the better the model    \n",
    "- Information gain is used to decide which feature to split on at each step in building the tree    \n",
    "- The split with the highest information gain will be taken as the first split and the process will continue until all children nodes are pure, or until the information gain is 0.    "
   ]
  },
  {
   "cell_type": "markdown",
   "metadata": {},
   "source": [
    "## Impurity Index or Gini Index for DT"
   ]
  },
  {
   "cell_type": "markdown",
   "metadata": {},
   "source": [
    "1. Gini index says, if we select two items from a population at random then they must be of same class and probability for this is 1    \n",
    "1. It works with categorical target variable “Success” or “Failure”.    \n",
    "1. CART uses Gini Method. Higher the Gini Score beter the model     \n",
    "1. Calculate Gini for sub-nodes, using formula sum of square of probability for success and failure (p^2+q^2).    \n",
    "1.  Calculate Gini for split using weighted Gini score of each node of that split    \n",
    "1. Per the above formula, below screen examples how to calculate a gini score for split:    \n",
    "    - Calc Gini fr Sub Node = female : Here only 20% females play cricket    \n",
    "    - Calc Gini fr Sub Node = male : Here only 65% females play cricket    \n",
    "    - the formula would be for female: (0.2)* (0.2) + (0.8) *(0.8) = 0.68    \n",
    "    - the formula would be for male: (0.65) *(0.65) + (0.35) *(0.35) = 0.55    \n",
    "1. Now final calc for __GINI__:\n",
    "    - (10/30) *0.68 + (20/30)* 0.55 = 0.59    # population size = 30, female 10 male =20     "
   ]
  },
  {
   "cell_type": "markdown",
   "metadata": {},
   "source": [
    "<img src=\"Gini Index.png\" style = \"width:500; height:400px\"/>"
   ]
  },
  {
   "cell_type": "code",
   "execution_count": null,
   "metadata": {},
   "outputs": [],
   "source": [
    "#Decision Tree Classfier\n",
    "from sklearn.tree import DecisionTreeClassifier\n",
    "iris = datasets.load_iris()\n",
    "features = iris.data\n",
    "target = iris.target"
   ]
  },
  {
   "cell_type": "code",
   "execution_count": null,
   "metadata": {},
   "outputs": [],
   "source": [
    "iris.data.shape\n",
    "iris.data[0:5]\n",
    "iris.data.shape[0] # number of rows \n",
    "iris.data.shape[1] # number of columns"
   ]
  },
  {
   "cell_type": "code",
   "execution_count": null,
   "metadata": {},
   "outputs": [],
   "source": [
    "# Create decision tree classfier:\n",
    "decisiontree= DecisionTreeClassifier(random_state=0)\n",
    "# Train model :\n",
    "model = decisiontree.fit(features,target)\n",
    "# Make new observation\n",
    "observation = [[5,4,6,7]]\n",
    "\n",
    "model.predict(observation)"
   ]
  },
  {
   "cell_type": "code",
   "execution_count": null,
   "metadata": {},
   "outputs": [],
   "source": [
    "# build a tree using different impurity measurement \n",
    "DT_ent= DecisionTreeClassifier(criterion='entropy', random_state=0)\n",
    "new_model = DT_ent.fit(features,target)"
   ]
  },
  {
   "cell_type": "markdown",
   "metadata": {},
   "source": [
    "## Visualising a DT "
   ]
  },
  {
   "cell_type": "code",
   "execution_count": null,
   "metadata": {},
   "outputs": [],
   "source": [
    "# Loaded the packages above - pydotplus, Decisiontreeclassifier, datasets,Image and tree\n",
    "iris = datasets.load_iris()\n",
    "features = iris.data\n",
    "target = iris.target\n",
    "decisiontree= DecisionTreeClassifier(random_state=0)\n",
    "model = decisiontree.fit(features,target)"
   ]
  },
  {
   "cell_type": "code",
   "execution_count": null,
   "metadata": {},
   "outputs": [],
   "source": [
    "#Create DOT Data \n",
    "dot_data = tree.export_graphviz(decisiontree, \n",
    "                               out_file=None,\n",
    "                               feature_names=iris.feature_names,\n",
    "                               class_names= iris.target_names)"
   ]
  },
  {
   "cell_type": "code",
   "execution_count": null,
   "metadata": {},
   "outputs": [],
   "source": [
    "#draw graph:\n",
    "graph = pydotplus.graph_from_dot_data(dot_data)\n",
    "Image(graph.create_png())"
   ]
  },
  {
   "cell_type": "code",
   "execution_count": null,
   "metadata": {},
   "outputs": [],
   "source": [
    "# Create PDF\n",
    "graph.write_pdf(\"iris.pdf\")"
   ]
  },
  {
   "cell_type": "markdown",
   "metadata": {},
   "source": [
    "# Random Forest"
   ]
  },
  {
   "cell_type": "code",
   "execution_count": null,
   "metadata": {},
   "outputs": [],
   "source": [
    "from sklearn.ensemble import RandomForestClassifier\n",
    "iris = datasets.load_iris()\n",
    "features= iris.data\n",
    "target= iris.target\n",
    "RF= RandomForestClassifier(random_state=0,n_jobs=-1)"
   ]
  },
  {
   "cell_type": "markdown",
   "metadata": {},
   "source": [
    "1. in RF many trees are trained    \n",
    "1. Each tree gets bootstrapped data [ random sample of observations]    \n",
    "1. each node considers a subset of data     \n",
    "1. There are few paramters which are imp to understand from perspective of RF:    \n",
    "    - __MAX FEATURES__: determines the maximum number of features to be considered at each node    \n",
    "    - __BOOTSTRAP PARAMETER__: allows to set whether the subset of obs considered for the tree are created using sampling  with replacement, __where the default is with replacement__    \n",
    "    - __N_ESTIMATORS__: sets the number of trees to construct    \n",
    "    - __max_depth__: maximum depth of the tree. if none tree grows until all leaves are pure    \n",
    "    - __min_impurity_split__: minimum impurity decrease required before a split is performed    \n",
    "    - __min_sample_split__: minimum number of observations at a node before that node is split    "
   ]
  },
  {
   "cell_type": "markdown",
   "metadata": {},
   "source": [
    "## Feature Importance "
   ]
  },
  {
   "cell_type": "code",
   "execution_count": null,
   "metadata": {},
   "outputs": [],
   "source": [
    "from sklearn.ensemble import RandomForestClassifier\n",
    "iris = datasets.load_iris()\n",
    "features= iris.data\n",
    "target= iris.target\n",
    "RF= RandomForestClassifier(random_state=0,n_jobs=-1)"
   ]
  },
  {
   "cell_type": "code",
   "execution_count": null,
   "metadata": {},
   "outputs": [],
   "source": [
    "#Train Model \n",
    "model =RF.fit(features, target)"
   ]
  },
  {
   "cell_type": "code",
   "execution_count": null,
   "metadata": {},
   "outputs": [],
   "source": [
    "#Calculate Feature Imp\n",
    "importance= model.feature_importances_\n",
    "#Sort feature imp \n",
    "indices= np.argsort(importance)[::-1]\n",
    "indices"
   ]
  },
  {
   "cell_type": "code",
   "execution_count": null,
   "metadata": {},
   "outputs": [],
   "source": [
    "#Rearrange feature names to match the sorted features in importance\n",
    "names= [iris.feature_names[i]for i in indices]\n",
    "model.feature_importances_ # the higher the number the more imp the feature"
   ]
  },
  {
   "cell_type": "code",
   "execution_count": null,
   "metadata": {
    "scrolled": true
   },
   "outputs": [],
   "source": [
    "#Create Plot \n",
    "plt.figure() \n",
    "# Create plot title:\n",
    "plt.title(\"Feature Importance\")\n",
    "\n",
    "# Add bard \n",
    "plt.bar(range(features.shape[1]), importance[indices])\n",
    " # Add feature names\n",
    "plt.xticks(range(features.shape[1]),names, rotation =90)"
   ]
  },
  {
   "cell_type": "markdown",
   "metadata": {},
   "source": [
    "### OOB and Other Metrics"
   ]
  },
  {
   "cell_type": "markdown",
   "metadata": {},
   "source": [
    "1. In RF 1/3rd data is not used for training and can be used for testing. This is known as \"{OOB - Out Of Bag}\" Error. As a result, RF uses Oob hence the need for a separate test data set is removed    "
   ]
  },
  {
   "cell_type": "markdown",
   "metadata": {},
   "source": [
    "### Imbalanced Dataset -RF"
   ]
  },
  {
   "cell_type": "markdown",
   "metadata": {},
   "source": [
    "__A simple technique for modifying a decision tree for _imbalanced classification_ is to change the weight that each class has when calculating the “impurity” score of a chosen split point.__"
   ]
  },
  {
   "cell_type": "code",
   "execution_count": null,
   "metadata": {},
   "outputs": [],
   "source": [
    "imb= pd.read_csv(\"breast_cancer.csv\")\n",
    "imb.shape\n",
    "imb.columns"
   ]
  },
  {
   "cell_type": "code",
   "execution_count": null,
   "metadata": {},
   "outputs": [],
   "source": [
    "imb.head(4)"
   ]
  },
  {
   "cell_type": "code",
   "execution_count": null,
   "metadata": {},
   "outputs": [],
   "source": [
    "m = plt.hist(imb[imb[\"diagnosis\"] == \"M\"].radius_mean,bins=30,fc = (1,0,0,0.5),label = \"Malignant\")\n",
    "b = plt.hist(imb[imb[\"diagnosis\"] == \"B\"].radius_mean,bins=30,fc = (0,1,0,0.5),label = \"Bening\")\n",
    "plt.legend()\n",
    "plt.xlabel(\"Radius Mean Values\")\n",
    "plt.ylabel(\"Frequency\")\n",
    "plt.title(\"Histogram of Radius Mean for Bening and Malignant Tumors\")\n",
    "plt.show()\n",
    "frequent_malignant_radius_mean = m[0].max()\n",
    "index_frequent_malignant_radius_mean = list(m[0]).index(frequent_malignant_radius_mean)\n",
    "most_frequent_malignant_radius_mean = m[1][index_frequent_malignant_radius_mean]\n",
    "print(\"Most frequent malignant radius mean is: \",most_frequent_malignant_radius_mean)"
   ]
  },
  {
   "cell_type": "code",
   "execution_count": null,
   "metadata": {},
   "outputs": [],
   "source": [
    "imb.info()"
   ]
  },
  {
   "cell_type": "code",
   "execution_count": null,
   "metadata": {},
   "outputs": [],
   "source": [
    "# drop the column unnamed \n",
    "imb.drop(['Unnamed: 32'] , axis=1, inplace=True)\n",
    "imb.head(2)"
   ]
  },
  {
   "cell_type": "markdown",
   "metadata": {},
   "source": [
    "# Regularization"
   ]
  },
  {
   "cell_type": "markdown",
   "metadata": {},
   "source": [
    "__Regularization is a technique which is used to solve the overfitting problem of the machine learning models.     \n",
    "Generally, a good model does not give more weight to a particular feature. The weights are evenly distributed. This can be achieved by doing regularization__    \n",
    "\n",
    "<font color= 'green'>/There are two types of regularization as follows:    \n",
    "- L1 Regularization or Lasso Regularization    \n",
    "- L2 L2 Regularization or Ridge Regularization </font>    \n",
    "_L1 Regularization or Lasso Regularization adds a penalty to the error function. The penalty is the sum of the absolute values of weights_   \n",
    "\n",
    "- Ridge Regression: along with reduction in error or loss we add 2 more parameters : Lambda * square of slope   \n",
    "- Lasso Regression: along with reduction in error or loss we add 2 more parameters : Lambda * magnitude of slope   "
   ]
  },
  {
   "cell_type": "markdown",
   "metadata": {},
   "source": [
    "# Techniques to Avoid Overfitting "
   ]
  },
  {
   "cell_type": "markdown",
   "metadata": {},
   "source": [
    "1. Easiest Way is to create train and test environment    \n",
    "\n",
    "1. Cross Validation [K-fold]:  Use your initial training data to generate multiple mini train-test splits. Use these splits to tune your model    \n",
    "\n",
    "1. Regularization :__For example, you could prune a decision tree, use dropout on a neural network, or add a penalty parameter to the cost function in regression__   \n",
    "\n",
    "1. Regularization can be Ridge and Lasso to reduce overfitting     \n",
    "\n",
    "1. Ensembling: Bagging attempts to reduce the chance overfitting complex models. Boosting attempts to improve the predictive flexibility of simple models    \n",
    "1. Stepwise Selection Methods:    "
   ]
  },
  {
   "cell_type": "markdown",
   "metadata": {},
   "source": [
    "<img src=\"Bias & Variance.JPG\" style = \"width:400; height:250px\"/>"
   ]
  },
  {
   "cell_type": "code",
   "execution_count": null,
   "metadata": {},
   "outputs": [],
   "source": [
    "import shutil\n",
    "shutil.rmtree('C:/Users/51613014/XGBoost Tutorial')"
   ]
  }
 ],
 "metadata": {
  "kernelspec": {
   "display_name": "Python 3",
   "language": "python",
   "name": "python3"
  },
  "language_info": {
   "codemirror_mode": {
    "name": "ipython",
    "version": 3
   },
   "file_extension": ".py",
   "mimetype": "text/x-python",
   "name": "python",
   "nbconvert_exporter": "python",
   "pygments_lexer": "ipython3",
   "version": "3.7.3"
  },
  "toc": {
   "base_numbering": 1,
   "nav_menu": {},
   "number_sections": true,
   "sideBar": true,
   "skip_h1_title": false,
   "title_cell": "Table of Contents",
   "title_sidebar": "Contents",
   "toc_cell": false,
   "toc_position": {
    "height": "calc(100% - 180px)",
    "left": "10px",
    "top": "150px",
    "width": "282px"
   },
   "toc_section_display": true,
   "toc_window_display": true
  }
 },
 "nbformat": 4,
 "nbformat_minor": 2
}
